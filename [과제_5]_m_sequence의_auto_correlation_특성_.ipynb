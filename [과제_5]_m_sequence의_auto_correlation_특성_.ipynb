{
  "nbformat": 4,
  "nbformat_minor": 0,
  "metadata": {
    "colab": {
      "name": "[과제 5] m-sequence의 auto-correlation 특성  .ipynb",
      "provenance": [],
      "collapsed_sections": [],
      "authorship_tag": "ABX9TyNnObYMBg+PFpCYYDfjfNG6",
      "include_colab_link": true
    },
    "kernelspec": {
      "name": "python3",
      "display_name": "Python 3"
    },
    "language_info": {
      "name": "python"
    }
  },
  "cells": [
    {
      "cell_type": "markdown",
      "metadata": {
        "id": "view-in-github",
        "colab_type": "text"
      },
      "source": [
        "<a href=\"https://colab.research.google.com/github/khodid/2021WirelessCommunication/blob/main/%5B%EA%B3%BC%EC%A0%9C_5%5D_m_sequence%EC%9D%98_auto_correlation_%ED%8A%B9%EC%84%B1_.ipynb\" target=\"_parent\"><img src=\"https://colab.research.google.com/assets/colab-badge.svg\" alt=\"Open In Colab\"/></a>"
      ]
    },
    {
      "cell_type": "markdown",
      "metadata": {
        "id": "_aMxzWPiVq82"
      },
      "source": [
        "# 과제: Shift register 5개를 사용하는 m-sequence를 생성하고, 3주기 동안의 auto-correlation 그래프를 그리시오.\n",
        "\n",
        "- Generator polynomal g(x) = 1 + x^2 + x^5\n",
        "\n",
        "- 초기값은 임의로 설정하시오.\n",
        "\n",
        "- auto-correlation은 다음의 normalized auto-correlation식을 이용한다."
      ]
    },
    {
      "cell_type": "markdown",
      "metadata": {
        "id": "Xlyy2_u7VstL"
      },
      "source": [
        "보고서 형식:\n",
        "\n",
        "- 학번, 이름, 그래프 (normalized auto-correlation 그래프 - 3주기)\n",
        "\n",
        "- 본인의 구현 방법과 분석 보고서: 폰트 10의 순수한 텍스트로 1페이지 이상\n",
        "\n",
        "- 부록 부분에는,  m-sequence 생성 코드와  k값에 따른 normalized auto-correlation 값에 대한 생성 코드를 추가하시오.\n",
        "\n",
        "(입력으로 초기 상태 비트 5자리를 입력받고, m-sequence 비트 패턴과  1주기 동안의 normalized auto-correlation 값을 차례로 출력)\n",
        "\n",
        "* 프로그래밍이 어려운 학생은 부록에 m-sequence를 생성하는 과정을 표로 추가하세요."
      ]
    },
    {
      "cell_type": "code",
      "metadata": {
        "id": "e5U_rldFVoYz"
      },
      "source": [
        "# 1 2 3 4 5\n",
        "#   1     1\n",
        "import numpy as np\n",
        "import matplotlib.pyplot as plt\n",
        "\n",
        "\n",
        "def gen(reg):\n",
        "    return reg[1] ^ reg[4]\n",
        "\n",
        "def n_auto_cor(code, k):\n",
        "    c = []\n",
        "    Nc = len(code)\n",
        "    for i in range(Nc):\n",
        "        a = 1 if code[i] is 1 else -1\n",
        "        b = 1 if code[(i+k)%Nc] is 1 else -1\n",
        "        c.append(a*b)\n",
        "    return 1/Nc*sum(c)\n",
        "\n",
        "def shift(reg):\n",
        "    a, b, c, d, e = reg           # \n",
        "    reg = [gen(reg), a, b, c, d]\n",
        "    return reg\n",
        "\n",
        "# 통합 코드\n",
        "def mseq(init):\n",
        "    reg = init\n",
        "    code = []\n",
        "    N_c = 2**len(init) - 1\n",
        "    \n",
        "    # 코드 얻기\n",
        "    while True:\n",
        "        code.append(reg[-1])    # 마지막 레지스터의 값을 code에 추가\n",
        "        reg = shift(reg)        # 레지스터 shift\n",
        "        if reg == init: break   # 초기 상태로 돌아오면 반복 멈춤\n",
        "    print(f'm-sequence: {code}, length: {len(code)}')\n",
        "    \n",
        "    # 한 주기에 대해 Auto-correlation 구하기\n",
        "    cor = []\n",
        "    for i in range(N_c):\n",
        "        cor.append(n_auto_cor(code, i))\n",
        "    print(f'Normalized-auto-correlation: {cor}')\n",
        "\n",
        "    # 그래프로 표시하기\n",
        "    plt.figure(figsize=(15, 6))\n",
        "    plt.stem(cor)\n",
        "    plt.title('Normalized auto-correlation')\n",
        "    plt.xticks(np.arange(0, N_c), rotation = 45)\n",
        "    plt.show()\n",
        "    return code, cor"
      ],
      "execution_count": 16,
      "outputs": []
    },
    {
      "cell_type": "code",
      "metadata": {
        "colab": {
          "base_uri": "https://localhost:8080/",
          "height": 470
        },
        "id": "GUb0uWaTU0dl",
        "outputId": "18cf23f9-5fa7-4e99-9305-e5a267f3c90c"
      },
      "source": [
        "code, cor = mseq([0, 1, 1, 0, 0])"
      ],
      "execution_count": 17,
      "outputs": [
        {
          "output_type": "stream",
          "text": [
            "m-sequence: [0, 0, 1, 1, 0, 1, 0, 0, 1, 0, 0, 0, 0, 1, 0, 1, 0, 1, 1, 1, 0, 1, 1, 0, 0, 0, 1, 1, 1, 1, 1], length: 31\n",
            "Normalized-auto-correlation: [1.0, -0.03225806451612903, -0.03225806451612903, -0.03225806451612903, -0.03225806451612903, -0.03225806451612903, -0.03225806451612903, -0.03225806451612903, -0.03225806451612903, -0.03225806451612903, -0.03225806451612903, -0.03225806451612903, -0.03225806451612903, -0.03225806451612903, -0.03225806451612903, -0.03225806451612903, -0.03225806451612903, -0.03225806451612903, -0.03225806451612903, -0.03225806451612903, -0.03225806451612903, -0.03225806451612903, -0.03225806451612903, -0.03225806451612903, -0.03225806451612903, -0.03225806451612903, -0.03225806451612903, -0.03225806451612903, -0.03225806451612903, -0.03225806451612903, -0.03225806451612903]\n"
          ],
          "name": "stdout"
        },
        {
          "output_type": "stream",
          "text": [
            "/usr/local/lib/python3.7/dist-packages/ipykernel_launcher.py:43: UserWarning: In Matplotlib 3.3 individual lines on a stem plot will be added as a LineCollection instead of individual lines. This significantly improves the performance of a stem plot. To remove this warning and switch to the new behaviour, set the \"use_line_collection\" keyword argument to True.\n"
          ],
          "name": "stderr"
        },
        {
          "output_type": "display_data",
          "data": {
            "image/png": "[encoded data removed]",
            "text/plain": [
              "<Figure size 1080x432 with 1 Axes>"
            ]
          },
          "metadata": {
            "tags": [],
            "needs_background": "light"
          }
        }
      ]
    },
    {
      "cell_type": "markdown",
      "metadata": {
        "id": "gIXJ0V14UHqz"
      },
      "source": [
        "# shift 과정 확인하면서 코드 생성하기"
      ]
    },
    {
      "cell_type": "code",
      "metadata": {
        "colab": {
          "base_uri": "https://localhost:8080/"
        },
        "id": "t8hZvokPe6Me",
        "outputId": "3a1aa037-431d-40b5-b784-3dbfe209b2dd"
      },
      "source": [
        "reg = [1, 0, 1, 0, 0] # 초기 상태\n",
        "c = reg\n",
        "code = []\n",
        "i = 0\n",
        "while True:\n",
        "    print(f'register 상태: {c}')\n",
        "    code.append(c[-1])\n",
        "    c = shift(c)\n",
        "    i = i + 1\n",
        "    if c == reg: break\n",
        "    if i > 50: break\n",
        "print(f'm-sequence {code} 의 주기: {i}')\n",
        "N_c = i"
      ],
      "execution_count": 30,
      "outputs": [
        {
          "output_type": "stream",
          "text": [
            "register 상태: [1, 0, 1, 0, 0]\n",
            "register 상태: [0, 1, 0, 1, 0]\n",
            "register 상태: [1, 0, 1, 0, 1]\n",
            "register 상태: [1, 1, 0, 1, 0]\n",
            "register 상태: [1, 1, 1, 0, 1]\n",
            "register 상태: [0, 1, 1, 1, 0]\n",
            "register 상태: [1, 0, 1, 1, 1]\n",
            "register 상태: [1, 1, 0, 1, 1]\n",
            "register 상태: [0, 1, 1, 0, 1]\n",
            "register 상태: [0, 0, 1, 1, 0]\n",
            "register 상태: [0, 0, 0, 1, 1]\n",
            "register 상태: [1, 0, 0, 0, 1]\n",
            "register 상태: [1, 1, 0, 0, 0]\n",
            "register 상태: [1, 1, 1, 0, 0]\n",
            "register 상태: [1, 1, 1, 1, 0]\n",
            "register 상태: [1, 1, 1, 1, 1]\n",
            "register 상태: [0, 1, 1, 1, 1]\n",
            "register 상태: [0, 0, 1, 1, 1]\n",
            "register 상태: [1, 0, 0, 1, 1]\n",
            "register 상태: [1, 1, 0, 0, 1]\n",
            "register 상태: [0, 1, 1, 0, 0]\n",
            "register 상태: [1, 0, 1, 1, 0]\n",
            "register 상태: [0, 1, 0, 1, 1]\n",
            "register 상태: [0, 0, 1, 0, 1]\n",
            "register 상태: [1, 0, 0, 1, 0]\n",
            "register 상태: [0, 1, 0, 0, 1]\n",
            "register 상태: [0, 0, 1, 0, 0]\n",
            "register 상태: [0, 0, 0, 1, 0]\n",
            "register 상태: [0, 0, 0, 0, 1]\n",
            "register 상태: [1, 0, 0, 0, 0]\n",
            "register 상태: [0, 1, 0, 0, 0]\n",
            "m-sequence [0, 0, 1, 0, 1, 0, 1, 1, 1, 0, 1, 1, 0, 0, 0, 1, 1, 1, 1, 1, 0, 0, 1, 1, 0, 1, 0, 0, 1, 0, 0] 의 주기: 31\n"
          ],
          "name": "stdout"
        }
      ]
    },
    {
      "cell_type": "code",
      "metadata": {
        "colab": {
          "base_uri": "https://localhost:8080/"
        },
        "id": "ARqTCyKffcGb",
        "outputId": "b861fc13-c7e7-4ea5-a722-d0b2bf735eca"
      },
      "source": [
        "print(code)\n",
        "print(N_c)\n",
        "print(len(code))"
      ],
      "execution_count": 20,
      "outputs": [
        {
          "output_type": "stream",
          "text": [
            "[0, 0, 1, 0, 1, 0, 1, 1, 1, 0, 1, 1, 0, 0, 0, 1, 1, 1, 1, 1, 0, 0, 1, 1, 0, 1, 0, 0, 1, 0, 0]\n",
            "31\n",
            "31\n"
          ],
          "name": "stdout"
        }
      ]
    },
    {
      "cell_type": "markdown",
      "metadata": {
        "id": "fwsDdqnlV_sL"
      },
      "source": [
        "# Normalized Auto Correlation 구하기"
      ]
    },
    {
      "cell_type": "code",
      "metadata": {
        "id": "l6qHMDUeZc8O"
      },
      "source": [
        "cor = []\n",
        "for i in range(N_c*3):\n",
        "    cor.append(n_auto_cor(code, i))"
      ],
      "execution_count": 21,
      "outputs": []
    },
    {
      "cell_type": "markdown",
      "metadata": {
        "id": "ppS8SXOTWL35"
      },
      "source": [
        "# 3주기에 대해 Normalized Auto Correlation 그리기"
      ]
    },
    {
      "cell_type": "code",
      "metadata": {
        "colab": {
          "base_uri": "https://localhost:8080/",
          "height": 456
        },
        "id": "hycpNJMfeAwX",
        "outputId": "bb9e8a6b-234b-4ec3-ad52-c4312c0ae9be"
      },
      "source": [
        "%matplotlib inline\n",
        "plt.figure(figsize=(15, 6))\n",
        "plt.title('Normalized Auto Correlation of m-sequence', fontsize = 20)\n",
        "plt.stem(cor, label = 'Normalized Auto Correlation')\n",
        "plt.xticks(np.arange(0, 3*N_c, step = 2), rotation =30)\n",
        "# plt.xticks([0, 31, 62], ['0', r'$N_c$', r'$2N_c$'])  # Set text labels.\n",
        "# plt.hlines(y = 0, xmin = 0, xmax = 92, colors = 'k')\n",
        "plt.hlines(y = -1/N_c, xmin = -3, xmax = 95, colors = 'm', linestyles=':', label=r'$-\\frac{1}{N_c}$')\n",
        "# plt.vlines(x = [0, 31, 62], ymin = -1/N_c, ymax = 1, linestyles=':'),\n",
        "plt.legend(fontsize = 15)\n",
        "plt.show()"
      ],
      "execution_count": 24,
      "outputs": [
        {
          "output_type": "stream",
          "text": [
            "/usr/local/lib/python3.7/dist-packages/ipykernel_launcher.py:4: UserWarning: In Matplotlib 3.3 individual lines on a stem plot will be added as a LineCollection instead of individual lines. This significantly improves the performance of a stem plot. To remove this warning and switch to the new behaviour, set the \"use_line_collection\" keyword argument to True.\n",
            "  after removing the cwd from sys.path.\n"
          ],
          "name": "stderr"
        },
        {
          "output_type": "display_data",
          "data": {
            "image/png": "[encoded data removed]",
            "text/plain": [
              "<Figure size 1080x432 with 1 Axes>"
            ]
          },
          "metadata": {
            "tags": [],
            "needs_background": "light"
          }
        }
      ]
    },
    {
      "cell_type": "code",
      "metadata": {
        "id": "dSKY8S0ZdR3k",
        "colab": {
          "base_uri": "https://localhost:8080/"
        },
        "outputId": "dab84c88-4224-4a45-d847-3753f1d35d5a"
      },
      "source": [
        "# 생성된 m-sequence\n",
        "print(code)"
      ],
      "execution_count": 25,
      "outputs": [
        {
          "output_type": "stream",
          "text": [
            "[0, 0, 1, 0, 1, 0, 1, 1, 1, 0, 1, 1, 0, 0, 0, 1, 1, 1, 1, 1, 0, 0, 1, 1, 0, 1, 0, 0, 1, 0, 0]\n"
          ],
          "name": "stdout"
        }
      ]
    },
    {
      "cell_type": "code",
      "metadata": {
        "id": "Aoe7m-wSbUiV"
      },
      "source": [
        ""
      ],
      "execution_count": null,
      "outputs": []
    }
  ]
}